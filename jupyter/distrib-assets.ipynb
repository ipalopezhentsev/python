{
 "cells": [
  {
   "cell_type": "markdown",
   "metadata": {},
   "source": [
    "Say you have certain assets a[i], each costing r[i] per item. And you would like to get a balanced portfolio of them where a[i] would take ratio t[i] (sum of t[i] should be 1). Right now they are unbalanced, so the task is to find such d[i], i.e. the amount of asset[i] to additionally buy, so that the ratio of such increased a[i] would be t[i] in increased portfolio."
   ]
  },
  {
   "cell_type": "code",
   "execution_count": 17,
   "metadata": {},
   "outputs": [],
   "source": [
    "a=[10,1,1]\n",
    "r=[1,90,80]\n",
    "t=[0.33,0.33,1-0.66]"
   ]
  },
  {
   "cell_type": "code",
   "execution_count": 18,
   "metadata": {},
   "outputs": [],
   "source": [
    "M=[]\n",
    "for i in range(len(a)):\n",
    "    line = [r[i]*(1-t[i]) if j == i else -t[i]*r[j] for j in range(len(a))]\n",
    "    M.append(line)"
   ]
  },
  {
   "cell_type": "code",
   "execution_count": 28,
   "metadata": {},
   "outputs": [],
   "source": [
    "b=[]\n",
    "for i in range(len(a)):\n",
    "    sm = 0\n",
    "    for j in range(len(a)):\n",
    "        if (j != i):\n",
    "            sm += a[j]*r[j]\n",
    "    line = a[i]*r[i]*(t[i]-1) + t[i] * sm\n",
    "    b.append(line)"
   ]
  },
  {
   "cell_type": "code",
   "execution_count": 26,
   "metadata": {},
   "outputs": [
    {
     "data": {
      "text/plain": [
       "[[0.6699999999999999, -29.700000000000003, -26.400000000000002],\n",
       " [-0.33, 60.3, -26.400000000000002],\n",
       " [-0.33999999999999997, -30.599999999999998, 52.800000000000004]]"
      ]
     },
     "execution_count": 26,
     "metadata": {},
     "output_type": "execute_result"
    }
   ],
   "source": [
    "M"
   ]
  },
  {
   "cell_type": "code",
   "execution_count": 29,
   "metadata": {},
   "outputs": [
    {
     "data": {
      "text/plain": [
       "[49.400000000000006, -30.599999999999994, -18.800000000000004]"
      ]
     },
     "execution_count": 29,
     "metadata": {},
     "output_type": "execute_result"
    }
   ],
   "source": [
    "b"
   ]
  },
  {
   "cell_type": "code",
   "execution_count": 6,
   "metadata": {},
   "outputs": [],
   "source": [
    "import numpy as np"
   ]
  },
  {
   "cell_type": "code",
   "execution_count": 20,
   "metadata": {},
   "outputs": [],
   "source": [
    "npM = np.matrix(M)"
   ]
  },
  {
   "cell_type": "code",
   "execution_count": 21,
   "metadata": {},
   "outputs": [
    {
     "data": {
      "text/plain": [
       "matrix([[  0.67, -29.7 , -26.4 ],\n",
       "        [ -0.33,  60.3 , -26.4 ],\n",
       "        [ -0.34, -30.6 ,  52.8 ]])"
      ]
     },
     "execution_count": 21,
     "metadata": {},
     "output_type": "execute_result"
    }
   ],
   "source": [
    "npM"
   ]
  },
  {
   "cell_type": "code",
   "execution_count": 22,
   "metadata": {},
   "outputs": [
    {
     "data": {
      "text/plain": [
       "matrix([[-1.77494809e+16, -1.77494809e+16, -1.77494809e+16],\n",
       "        [-1.97216454e+14, -1.97216454e+14, -1.97216454e+14],\n",
       "        [-2.28591799e+14, -2.28591799e+14, -2.28591799e+14]])"
      ]
     },
     "execution_count": 22,
     "metadata": {},
     "output_type": "execute_result"
    }
   ],
   "source": [
    "npM.I"
   ]
  },
  {
   "cell_type": "code",
   "execution_count": 31,
   "metadata": {},
   "outputs": [],
   "source": [
    "npb = np.array(b)"
   ]
  },
  {
   "cell_type": "code",
   "execution_count": 32,
   "metadata": {},
   "outputs": [],
   "source": [
    "d=np.linalg.solve(npM, npb)"
   ]
  },
  {
   "cell_type": "code",
   "execution_count": 33,
   "metadata": {},
   "outputs": [
    {
     "data": {
      "text/plain": [
       "array([-93.41176471,  -1.92679739,  -2.07424242])"
      ]
     },
     "execution_count": 33,
     "metadata": {},
     "output_type": "execute_result"
    }
   ],
   "source": [
    "d"
   ]
  },
  {
   "cell_type": "code",
   "execution_count": null,
   "metadata": {},
   "outputs": [],
   "source": []
  }
 ],
 "metadata": {
  "kernelspec": {
   "display_name": "Python 3",
   "language": "python",
   "name": "python3"
  },
  "language_info": {
   "codemirror_mode": {
    "name": "ipython",
    "version": 3
   },
   "file_extension": ".py",
   "mimetype": "text/x-python",
   "name": "python",
   "nbconvert_exporter": "python",
   "pygments_lexer": "ipython3",
   "version": "3.8.3"
  }
 },
 "nbformat": 4,
 "nbformat_minor": 4
}
